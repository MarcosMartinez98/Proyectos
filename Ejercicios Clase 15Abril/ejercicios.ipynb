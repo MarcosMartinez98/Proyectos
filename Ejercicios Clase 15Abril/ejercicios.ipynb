{
 "cells": [
  {
   "cell_type": "code",
   "execution_count": null,
   "metadata": {},
   "outputs": [
    {
     "data": {
      "text/plain": [
       "True"
      ]
     },
     "execution_count": 12,
     "metadata": {},
     "output_type": "execute_result"
    }
   ],
   "source": [
    "# ¿si obteemos las palabras de la frase i love you hay alguna palabra de longitud igual al numero de la clave\n",
    "churro = [({'hola':[1, 'I love you']})]\n",
    "churro_dos = [({'hola':[27, 'I love you']})]\n",
    "\n",
    "\n",
    "def busca_palabras(array):\n",
    "    for i in array[0]['hola'][1].split():\n",
    "        if len(i) == array[0]['hola'][0]:\n",
    "            return True\n",
    "        else:\n",
    "            return False\n",
    "busca_palabras(churro)\n"
   ]
  },
  {
   "cell_type": "code",
   "execution_count": 13,
   "metadata": {},
   "outputs": [
    {
     "data": {
      "text/plain": [
       "'me gusta nadar'"
      ]
     },
     "execution_count": 13,
     "metadata": {},
     "output_type": "execute_result"
    }
   ],
   "source": [
    "# mejor manera para unir palabras en vez del bucle for\n",
    "a = ['me', 'gusta', 'nadar']\n",
    "' '.join(a)"
   ]
  },
  {
   "cell_type": "code",
   "execution_count": 25,
   "metadata": {},
   "outputs": [
    {
     "data": {
      "text/plain": [
       "57.6"
      ]
     },
     "execution_count": 25,
     "metadata": {},
     "output_type": "execute_result"
    }
   ],
   "source": [
    "# multiplicar el 7,2 por los pares de [8.0, 3]\n",
    "churro = {\"uno\":[\"z\",\"o\", [\"tres\", \"cuatro\"], [\"7,2\"]], \"dos\":([[\"8.0\", \"3\"]])}\n",
    "churro_dos = {\"uno\":[\"z\",\"o\", [\"tres\", \"cuatro\"], [\"7,2\"]], \"dos\":([[\"8.0\", \"3\",\"4\"]])}\n",
    "def es_par(n):\n",
    "    if n % 2 == 0:\n",
    "        return True\n",
    "    else:\n",
    "        return False\n",
    "\n",
    "def ejercicio(array):\n",
    "    for i in array['dos'][0]:\n",
    "        if es_par(float(i)) == True:\n",
    "            return float(i) * float(array['uno'][3][0].replace(',', '.'))\n",
    "ejercicio(churro)\n"
   ]
  }
 ],
 "metadata": {
  "kernelspec": {
   "display_name": "data_analysis_env",
   "language": "python",
   "name": "python3"
  },
  "language_info": {
   "codemirror_mode": {
    "name": "ipython",
    "version": 3
   },
   "file_extension": ".py",
   "mimetype": "text/x-python",
   "name": "python",
   "nbconvert_exporter": "python",
   "pygments_lexer": "ipython3",
   "version": "3.11.11"
  }
 },
 "nbformat": 4,
 "nbformat_minor": 2
}
