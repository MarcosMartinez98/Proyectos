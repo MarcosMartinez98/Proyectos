{
 "cells": [
  {
   "cell_type": "markdown",
   "id": "11559f8f",
   "metadata": {},
   "source": [
    "## Proyecto de ML con IA  \n",
    "Vamos a predecir el riesgo cardiovascular de una persona en función de una imagen. Para ello, entrenaremos un modelo con datos tabulares y unas features y le pasaremos la imagen de una persona a un LLM vía API. Le pediremos que nos extraiga las features que le digamos y las introduciremos en nuestro modelo.  \n",
    "\n",
    "Los datos los sacamos de [aquí](https://archive.ics.uci.edu/dataset/2/adult)"
   ]
  },
  {
   "cell_type": "code",
   "execution_count": null,
   "id": "a5797b55",
   "metadata": {},
   "outputs": [],
   "source": [
    "# Cambia las rutas a los archivos si es necesario\n",
    "import pandas as pd\n",
    "df_train = pd.read_csv(\"data_train.csv\")\n",
    "df_test = pd.read_csv(\"data_test.csv\")\n",
    "x_train = df_train.drop(columns='riesgo_cardiovascular')\n",
    "y_train = df_train.loc[:,'riesgo_cardiovascular']\n",
    "x_test = df_test.drop(columns='riesgo_cardiovascular')\n",
    "y_test = df_test.loc[:,'riesgo_cardiovascular']"
   ]
  },
  {
   "cell_type": "code",
   "execution_count": 2,
   "id": "f3ac3142",
   "metadata": {},
   "outputs": [
    {
     "data": {
      "text/plain": [
       "riesgo_cardiovascular\n",
       "2    584\n",
       "0    473\n",
       "1    393\n",
       "Name: count, dtype: int64"
      ]
     },
     "execution_count": 2,
     "metadata": {},
     "output_type": "execute_result"
    }
   ],
   "source": [
    "# Las clases están bien balanceadas\n",
    "df_train.loc[:,'riesgo_cardiovascular'].value_counts()"
   ]
  },
  {
   "cell_type": "code",
   "execution_count": 11,
   "id": "9d86ec64",
   "metadata": {},
   "outputs": [
    {
     "data": {
      "text/plain": [
       "{'random_forest': 0.9812646370023419, 'xgboost': 0.990632318501171}"
      ]
     },
     "execution_count": 11,
     "metadata": {},
     "output_type": "execute_result"
    }
   ],
   "source": [
    "from sklearn.metrics import accuracy_score, classification_report\n",
    "from sklearn.ensemble import RandomForestClassifier\n",
    "from xgboost import XGBClassifier\n",
    "from lightgbm import LGBMClassifier\n",
    "\n",
    "# Vamos a lanzar tres modelos con hiperparametros al azar y ver cual da mejor resultado,\n",
    "# en funcion de ese resultado vamos a usar un gridsearch para optimizar esos hiperparametros\n",
    "\n",
    "accuracy_models = dict()\n",
    "models_name = ['random_forest', 'xgboost', 'lgbm']\n",
    "models = [RandomForestClassifier(n_estimators=50, max_depth=3),\\\n",
    "              XGBClassifier(n_estimators = 50, max_depth=3)]\n",
    "\n",
    "for model, name in zip(models, models_name):\n",
    "    model.fit(x_train,y_train)\n",
    "    y_pred = model.predict(x_test)\n",
    "    accuracy_models[name] = accuracy_score(y_test, y_pred)\n",
    "accuracy_models"
   ]
  },
  {
   "cell_type": "code",
   "execution_count": 4,
   "id": "5b5227b3",
   "metadata": {},
   "outputs": [
    {
     "name": "stdout",
     "output_type": "stream",
     "text": [
      "Best set of hyperparameters:  {'max_depth': 3, 'n_estimators': 50}\n",
      "Best score:  0.9799999999999999\n"
     ]
    }
   ],
   "source": [
    "# Los resultados son excelentes, vamos a usar un gridsearch con XGBoost por hacerlo,\n",
    "# pero no hace falta porque la accuracy es muy buena ya\n",
    "from sklearn.model_selection import GridSearchCV\n",
    "\n",
    "# Define the hyperparameter grid\n",
    "param_grid = {\n",
    "    'n_estimators':[50,75,100],\n",
    "    'max_depth': [3, 5, 7]\n",
    "    \n",
    "}\n",
    "\n",
    "# Create the XGBoost model object\n",
    "xgb_model = XGBClassifier()\n",
    "\n",
    "# Create the GridSearchCV object\n",
    "grid_search = GridSearchCV(xgb_model, param_grid, cv=5, scoring='accuracy')\n",
    "\n",
    "# Fit the GridSearchCV object to the training data\n",
    "grid_search.fit(x_train, y_train)\n",
    "\n",
    "# Print the best set of hyperparameters and the corresponding score\n",
    "print(\"Best set of hyperparameters: \", grid_search.best_params_)\n",
    "print(\"Best score: \", grid_search.best_score_)\n",
    "\n",
    "best_model = grid_search.best_estimator_"
   ]
  },
  {
   "cell_type": "code",
   "execution_count": 5,
   "id": "b85c3623",
   "metadata": {},
   "outputs": [
    {
     "data": {
      "text/plain": [
       "0.990632318501171"
      ]
     },
     "execution_count": 5,
     "metadata": {},
     "output_type": "execute_result"
    }
   ],
   "source": [
    "# Nuestro best model es un XGBoost con n_est = 50, max_depth = 3\n",
    "accuracy_score(y_test,best_model.predict(x_test))"
   ]
  },
  {
   "cell_type": "code",
   "execution_count": 6,
   "id": "80e6090d",
   "metadata": {},
   "outputs": [],
   "source": [
    "# Nos lo guardamos en un pickle\n",
    "import pickle\n",
    "with open('best_model.pkl','wb') as file:\n",
    "    pickle.dump(best_model,file)"
   ]
  },
  {
   "cell_type": "code",
   "execution_count": 8,
   "id": "901e0b2a",
   "metadata": {},
   "outputs": [
    {
     "data": {
      "text/plain": [
       "array([1])"
      ]
     },
     "execution_count": 8,
     "metadata": {},
     "output_type": "execute_result"
    }
   ],
   "source": [
    "# Este es el formato que necesitamos para predecir,\n",
    "# un array 2D con 1 float, 1 entero y tres binarios\n",
    "best_model.predict([[25,52,1,1,0]])"
   ]
  },
  {
   "cell_type": "code",
   "execution_count": null,
   "id": "19a1e0dc",
   "metadata": {},
   "outputs": [
    {
     "data": {
      "text/plain": [
       "True"
      ]
     },
     "execution_count": 9,
     "metadata": {},
     "output_type": "execute_result"
    }
   ],
   "source": [
    "# Asegurate de tener un .env en la carpeta del notebook con tu clave de la api de gemini\n",
    "# GEMINI_API_KEY='TU_CLAVE'\n",
    "from dotenv import load_dotenv\n",
    "load_dotenv()"
   ]
  },
  {
   "cell_type": "code",
   "execution_count": 34,
   "id": "0c5af94d",
   "metadata": {},
   "outputs": [
    {
     "name": "stdout",
     "output_type": "stream",
     "text": [
      "[[[22.5, 30, 0, 0 ,1]], \"Esta persona tiene un IMC estimado de 22.5 por su complexión atlética y saludable, sin aparentar sobrepeso ni delgadez extrema. Su edad parece ser de unos 30 años debido a su apariencia juvenil y la ausencia de signos visibles de envejecimiento. Es hombre (0) por sus rasgos faciales masculinos y la presencia de barba. No se pueden determinar ojeras (0) ya que lleva gafas de sol que cubren completamente esa zona. Se asume que no fuma (1) al no haber ninguna evidencia visual de tabaquismo en la imagen.\"]\n"
     ]
    }
   ],
   "source": [
    "# Vamos ahora con la parte de llamar a una API, introducir una imagen y que nos devuelva las features que queremos\n",
    "from google.genai import types\n",
    "from google import genai\n",
    "\n",
    "client = genai.Client()\n",
    "prompt = '''\n",
    "Eres un asistente virtual especializado en el reconocimiento de características físicas de una persona. A partir de la imagen de una\n",
    "persona extraerás las siguientes features:\n",
    "\n",
    "1. Indice de masa corporal (IMC): tipo float\n",
    "2. Edad: tipo int\n",
    "3. Sexo: 0 hombre y 1 mujer\n",
    "4. Ojeras: 0 si no tiene ojeras y 1 si sí que las tiene\n",
    "5. Tabaquismo: 0 si crees que esa persona fuma y 1 si crees que esa persona fuma\n",
    "\n",
    "Tu respuesta será únicamente una lista con una lista bidimensional con esa información y una buena\n",
    "justificacion de por que has has asignado esos parametros a esa persona. Max 300 tokens\n",
    "Por ejemplo:\n",
    "\n",
    "Ejemplo de tu output: [[[22.3, 25, 0, 1 ,0]], \"Esa pesona tiene 25 años porque (explicacion...)\"]\n",
    "'''\n",
    "\n",
    "with open('images/image1.jpg', 'rb') as f:\n",
    "    image_bytes = f.read()\n",
    "\n",
    "response = client.models.generate_content(\n",
    "model='gemini-2.5-flash',\n",
    "contents=[\n",
    "    types.Part.from_bytes(\n",
    "    data=image_bytes,\n",
    "    mime_type='image/jpeg',\n",
    "    ),\n",
    "    prompt\n",
    "]\n",
    ")\n",
    "\n",
    "print(response.text)"
   ]
  },
  {
   "cell_type": "code",
   "execution_count": 37,
   "id": "00dc8050",
   "metadata": {},
   "outputs": [
    {
     "data": {
      "text/plain": [
       "[[22.5, 30, 0, 0, 1]]"
      ]
     },
     "execution_count": 37,
     "metadata": {},
     "output_type": "execute_result"
    }
   ],
   "source": [
    "# Ahora devolvemos ese string como lista\n",
    "import json\n",
    "json.loads(response.text)[0]"
   ]
  },
  {
   "cell_type": "markdown",
   "id": "7fd9ccd8",
   "metadata": {},
   "source": [
    "# Ejecuta esta celda"
   ]
  },
  {
   "cell_type": "code",
   "execution_count": 21,
   "id": "2a22d029",
   "metadata": {},
   "outputs": [
    {
     "data": {
      "text/plain": [
       "'Riesgo Cardiovascular bajo. Su índice de masa corporal se estima en 21.0, ya que presenta una complexión delgada a media, con un cuerpo que no parece tener exceso de grasa. Se calcula una edad de 30 años, basándose en la ausencia de arrugas pronunciadas y el aspecto juvenil de su piel y cabello. El sexo es 0 (hombre) debido a sus características físicas masculinas evidentes, incluyendo vello facial. No se observan ojeras (0), ya que la zona debajo de sus ojos se ve clara y sin hinchazón ni decoloración. Finalmente, se clasifica como no fumador (1), ya que no hay signos visibles asociados al tabaquismo, como coloración en la piel o dientes, ni presencia de cigarrillos.'"
      ]
     },
     "execution_count": 21,
     "metadata": {},
     "output_type": "execute_result"
    }
   ],
   "source": [
    "# Lo tenemos todo listo para pasarselo al modelo y que nos haga la predicción\n",
    "\n",
    "from dotenv import load_dotenv\n",
    "load_dotenv()\n",
    "\n",
    "import pickle\n",
    "with open('best_model.pkl','rb') as file: # Cambia la ruta si es necesario\n",
    "    best_model = pickle.load(file)\n",
    "\n",
    "from google.genai import types\n",
    "from google import genai\n",
    "\n",
    "client = genai.Client()\n",
    "prompt = '''\n",
    "Eres un asistente virtual especializado en el reconocimiento de características físicas de una persona. A partir de la imagen de una\n",
    "persona extraerás las siguientes features:\n",
    "\n",
    "1. Indice de masa corporal (IMC): tipo float\n",
    "2. Edad: tipo int\n",
    "3. Sexo: 0 hombre y 1 mujer\n",
    "4. Ojeras: 0 si no tiene ojeras y 1 si sí que las tiene\n",
    "5. Tabaquismo: 0 si crees que esa persona fuma y 1 si crees que esa persona fuma\n",
    "\n",
    "Tu respuesta será únicamente una lista con una lista bidimensional con esa información y una buena\n",
    "justificacion de por que has has asignado esos parametros a esa persona. Max 300 tokens\n",
    "Por ejemplo:\n",
    "\n",
    "Ejemplo de tu output: [[[22.3, 25, 0, 1 ,0]], \"Esa pesona tiene 25 años porque (explicacion...)\"]\n",
    "'''\n",
    "\n",
    "with open('../images/image1.jpg', 'rb') as f: # Añade aquí la ruta de la imagen que quieras analizar\n",
    "    image_bytes = f.read()\n",
    "\n",
    "response = client.models.generate_content(\n",
    "model='gemini-2.5-flash',\n",
    "contents=[\n",
    "    types.Part.from_bytes(\n",
    "    data=image_bytes,\n",
    "    mime_type='image/jpeg',\n",
    "    ),\n",
    "    prompt\n",
    "]\n",
    ")\n",
    "\n",
    "\n",
    "import json\n",
    "output_api = json.loads(response.text)\n",
    "\n",
    "def prediccion(output_api):\n",
    "    if best_model.predict(output_api[0]) == 0:\n",
    "        return f'Riesgo Cardiovascular bajo. {output_api[1]}'\n",
    "    elif best_model.predict(output_api[0]) == 1:\n",
    "        return f'Riesgo Cardiovascular medio. {output_api[1]}'\n",
    "    else:\n",
    "        return f'Riesgo Cardiovascular alto. {output_api[1]}'\n",
    "\n",
    "prediccion(output_api)\n",
    "    "
   ]
  }
 ],
 "metadata": {
  "kernelspec": {
   "display_name": "data_analysis_env",
   "language": "python",
   "name": "python3"
  },
  "language_info": {
   "codemirror_mode": {
    "name": "ipython",
    "version": 3
   },
   "file_extension": ".py",
   "mimetype": "text/x-python",
   "name": "python",
   "nbconvert_exporter": "python",
   "pygments_lexer": "ipython3",
   "version": "3.11.11"
  }
 },
 "nbformat": 4,
 "nbformat_minor": 5
}
