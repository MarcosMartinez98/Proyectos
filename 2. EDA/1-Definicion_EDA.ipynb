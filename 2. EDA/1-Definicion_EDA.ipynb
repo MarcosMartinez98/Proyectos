{
 "cells": [
  {
   "cell_type": "markdown",
   "metadata": {},
   "source": [
    "# INFORMACIÓN DEL PROYECTO"
   ]
  },
  {
   "cell_type": "markdown",
   "metadata": {},
   "source": [
    "### TÍTULO"
   ]
  },
  {
   "cell_type": "markdown",
   "metadata": {},
   "source": [
    "## Análisis estratégico de ventas en el sector de aceites comestibles: del dato a la decisión empresarial"
   ]
  },
  {
   "cell_type": "markdown",
   "metadata": {},
   "source": [
    "### TEMA"
   ]
  },
  {
   "cell_type": "markdown",
   "metadata": {},
   "source": [
    "***Comentario personal***  \n",
    "\n",
    "Este proyecto junto a la empresa ACEITES LA CANAL SA brinda una gran oportunidad para demostrar la eficiencia del análisis de datos en el contexto de la toma de decisiones estratégicas y orientadas a la optimización de recursos y capital, ya que esta empresa está  por  informatizar, todas sus cuentas se realizan a través de Excel y tienen un pequeño programa informático que se utiliza más como App interna de la empresa para gestionar los pedidos y los clientes que para analizar ventas. Es por ello que un buen análisis puede aportarles una propuesta de valor de cara a optimizar gran cantidad de procesos relacionados con ventas y clientes.  \n",
    "\n",
    "***Contexto***  \n",
    "\n",
    "En el sector alimentario, las empresas que distribuyen productos como aceites comestibles deben adaptarse a la complejidad de dos canales principales: el canal HORECA (hoteles, restaurantes y cafeterías), caracterizado por pedidos frecuentes y diversificados, y el canal industrial, que presenta compras de mayor volumen y una lógica más orientada a eficiencia operativa y costes.\n",
    "\n",
    "En este contexto, el análisis de datos de ventas permite las dinámicas de cada canal, detectar patrones de comportamiento, prever la demanda y mejorar la toma de decisiones comerciales. La empresa objeto de estudio busca modernizar su estrategia apoyándose en técnicas de ciencia de datos para optimizar procesos clave y ganar competitividad en ambos segmentos.  \n",
    "\n",
    "***Objetivo General***  \n",
    "\n",
    "Desarrollar un sistema de toma de decisiones basado en el análisis de datos reales de ventas que permita a la empresa optimizar su estrategia comercial, segmentar eficazmente a sus clientes, ajustar su catálogo de productos y prever la demanda en los canales horeca e industrial.\n",
    "\n",
    "***Objetivos específicos***  \n",
    "1. Analizar y comparar el comportamiento de compra entre clientes horeca e industriales.\n",
    "2. Realizar una segmentación de clientes para identificar perfiles de alto valor. \n",
    "3. Evaluar la eficiencia de los comerciales en el canal horeca.\n"
   ]
  },
  {
   "cell_type": "markdown",
   "metadata": {},
   "source": [
    "### HIPÓTESIS"
   ]
  },
  {
   "cell_type": "markdown",
   "metadata": {},
   "source": [
    "Define aquí lo que será la hipótesis de tu proyecto.\n",
    "Puede que tengas más de una, pero tu proyecto lo harás teniendo una principal hipótesis."
   ]
  },
  {
   "cell_type": "markdown",
   "metadata": {},
   "source": [
    "“El análisis de los datos de ventas permitirá identificar diferencias significativas en el comportamiento de compra entre los clientes del canal horeca y los industriales, segmentar a los clientes por valor y frecuencia y evaluar la eficiencia de los comerciales en el canal horeca, lo que permitirá optimizar la estrategia comercial y mejorar la retención de clientes.”"
   ]
  },
  {
   "cell_type": "markdown",
   "metadata": {},
   "source": [
    "## OBTENCIÓN DE LOS DATOS"
   ]
  },
  {
   "cell_type": "markdown",
   "metadata": {},
   "source": [
    "### DATASETS Y FUENTES ALTERNATIVAS DE DATOS"
   ]
  },
  {
   "cell_type": "markdown",
   "metadata": {},
   "source": [
    "Incluye aquí una breve descripción del dataset o datasets de los que partirás para poder evaluar tu hipótesis. <br>\n",
    "También incluye el origen de estos datos y su fuente."
   ]
  },
  {
   "cell_type": "markdown",
   "metadata": {},
   "source": [
    "El dataset consiste en archivos Excel de ventas por mes para el canal industrial y horeca desde enero del 2024 hasta abril del 2025. En el canal horeca, además, se incluyen las ventas de cada mes por comercial."
   ]
  },
  {
   "cell_type": "markdown",
   "metadata": {},
   "source": [
    "Muestra mediante un head() los principales datasets con los que vas a trabajar"
   ]
  },
  {
   "cell_type": "code",
   "execution_count": null,
   "metadata": {},
   "outputs": [],
   "source": [
    "# Siguiente dataset..."
   ]
  },
  {
   "cell_type": "code",
   "execution_count": null,
   "metadata": {},
   "outputs": [],
   "source": []
  }
 ],
 "metadata": {
  "kernelspec": {
   "display_name": "data_analysis_env",
   "language": "python",
   "name": "python3"
  },
  "language_info": {
   "codemirror_mode": {
    "name": "ipython",
    "version": 3
   },
   "file_extension": ".py",
   "mimetype": "text/x-python",
   "name": "python",
   "nbconvert_exporter": "python",
   "pygments_lexer": "ipython3",
   "version": "3.11.11"
  },
  "orig_nbformat": 4
 },
 "nbformat": 4,
 "nbformat_minor": 2
}
