{
 "cells": [
  {
   "cell_type": "markdown",
   "metadata": {},
   "source": [
    "### Does my number look big in this?  \n",
    "Enlace [aquí](https://www.codewars.com/kata/5287e858c6b5a9678200083c)"
   ]
  },
  {
   "cell_type": "code",
   "execution_count": null,
   "metadata": {},
   "outputs": [],
   "source": [
    "\n",
    "def narcissistic(value):\n",
    "    value_list = []\n",
    "    for i in str(value):\n",
    "        value_list += [int(i)]\n",
    "\n",
    "    resultado = 0\n",
    "    for i in value_list:\n",
    "        resultado += i**len(str(value))\n",
    "\n",
    "    if resultado == value:\n",
    "        print(True, f'{value} is narcissictic')\n",
    "    else:\n",
    "        (False, f'{value} is not narcissictic')\n",
    "narcissistic(371)\n",
    "narcissistic(7)\n",
    "narcissistic(25)"
   ]
  },
  {
   "cell_type": "markdown",
   "metadata": {},
   "source": [
    "### Your order, please  \n",
    "Enlace [aquí](https://www.codewars.com/kata/55c45be3b2079eccff00010f)"
   ]
  },
  {
   "cell_type": "code",
   "execution_count": null,
   "metadata": {},
   "outputs": [
    {
     "data": {
      "text/plain": [
       "'Fo1r the2 g3ood 4of th5e pe6ople'"
      ]
     },
     "execution_count": 148,
     "metadata": {},
     "output_type": "execute_result"
    }
   ],
   "source": [
    "\n",
    "def order(sentence):\n",
    "    sentence_list = sentence.split(' ')\n",
    "    ordered_list = [True] * len(sentence_list) #creo una nueva lista de longitud la longitud de sentencia con True para despues cambiarla\n",
    "    if sentence == '':\n",
    "        return ''\n",
    "    else:\n",
    "        for i in sentence_list:\n",
    "            for j in range(len(sentence_list)):\n",
    "                k = j + 1 #arreglo los indices porque los strings del ejercicios empiezan en 1 no cero\n",
    "                if i.find(str(k)) != -1:\n",
    "                    ordered_list[j] = i\n",
    "                \n",
    "                    None\n",
    "        ordered_sentence = ''\n",
    "        for i in ordered_list:\n",
    "            ordered_sentence += i + ' '\n",
    "                \n",
    "        return ordered_sentence.rstrip()\n",
    "\n",
    "order(\"4of Fo1r pe6ople g3ood th5e the2\")\n",
    "         \n",
    "\n",
    "# este codigo lo hice antes de empezar el bootcamp, me costo media hora"
   ]
  },
  {
   "cell_type": "code",
   "execution_count": null,
   "metadata": {},
   "outputs": [
    {
     "name": "stdout",
     "output_type": "stream",
     "text": [
      "Fo1r the2 g3ood 4of th5e pe6ople\n"
     ]
    }
   ],
   "source": [
    "# voy a tratar de optimizarlo\n",
    "sentence = \"4of Fo1r pe6ople g3ood th5e the2\"\n",
    "sentence_list = sentence.split()\n",
    "orderer_list = []\n",
    "for i in range(1, len(sentence_list) + 1):\n",
    "    for j in sentence_list:\n",
    "        if str(i) in j:\n",
    "            orderer_list.append(j)\n",
    "print(' '.join(orderer_list))\n",
    "\n",
    "# este a las dos semanas, me costo 1 minuto :)"
   ]
  },
  {
   "cell_type": "markdown",
   "metadata": {},
   "source": [
    "### Who likes it?  \n",
    "Enlace [aquí](https://www.codewars.com/kata/5266876b8f4bf2da9b000362)"
   ]
  },
  {
   "cell_type": "code",
   "execution_count": null,
   "metadata": {},
   "outputs": [
    {
     "name": "stdout",
     "output_type": "stream",
     "text": [
      "no one likes this\n",
      "Peter likes this\n",
      "Jacob and Alex like this\n",
      "Max, John and Mark like this\n",
      "Alex, Jacob and 2 others like this\n",
      "Alex, Jacob and 3 others like this\n"
     ]
    }
   ],
   "source": [
    "def likes(names):\n",
    "    if names == []:\n",
    "        print('no one likes this')\n",
    "    elif len(names) == 1:\n",
    "        print(f'{names[0]} likes this')\n",
    "    elif len(names) == 2:\n",
    "        print(f'{names[0]} and {names[1]} like this')\n",
    "    elif len(names) == 3:\n",
    "        print(f'{names[0]}, {names[1]} and {names[2]} like this')\n",
    "    else:\n",
    "        print(f'{names[0]}, {names[1]} and {len(names) -2} others like this')\n",
    "\n",
    "likes([])\n",
    "likes(['Peter'])\n",
    "likes(['Jacob', 'Alex'])\n",
    "likes(['Max', 'John', 'Mark'])\n",
    "likes(['Alex', 'Jacob', 'Mark', 'Max'])\n",
    "likes(['Alex', 'Jacob', 'Mark', 'Max', 'juan'])\n",
    "            \n",
    "\n",
    "\n"
   ]
  },
  {
   "cell_type": "markdown",
   "metadata": {},
   "source": [
    "### Two sum\n",
    "Enlace [aquí](https://www.codewars.com/kata/52c31f8e6605bcc646000082)  \n",
    "Write a function that takes an array of numbers (integers for the tests) and a target number. It should find two different items in the array that, when added together, give the target value. The indices of these items should then be returned in a tuple / list (depending on your language) like so: (index1, index2).\n",
    "\n",
    "For the purposes of this kata, some tests may have multiple answers; any valid solutions will be accepted.\n",
    "\n",
    "The input will always be valid (numbers will be an array of length 2 or greater, and all of the items will be numbers; target will always be the sum of two different items from that array)."
   ]
  },
  {
   "cell_type": "code",
   "execution_count": 91,
   "metadata": {},
   "outputs": [
    {
     "data": {
      "text/plain": [
       "(0, 1)"
      ]
     },
     "execution_count": 91,
     "metadata": {},
     "output_type": "execute_result"
    }
   ],
   "source": [
    "def two_sum(array, target):\n",
    "    for i in range(len(array)):\n",
    "        for j in range(len(array)):\n",
    "            if ((array[i] + array[j]) == target) and (i != j):\n",
    "                return(i, j)\n",
    "\n",
    "            \n",
    "    \n",
    "two_sum([2, 2, 3], 4)"
   ]
  },
  {
   "cell_type": "markdown",
   "metadata": {},
   "source": [
    "### Array Product (Sans n)  \n",
    "Enlace [aquí](https://www.codewars.com/kata/5b3e609cd58499284100007a)"
   ]
  },
  {
   "cell_type": "code",
   "execution_count": 24,
   "metadata": {},
   "outputs": [
    {
     "data": {
      "text/plain": [
       "[0, -18, 0]"
      ]
     },
     "execution_count": 24,
     "metadata": {},
     "output_type": "execute_result"
    }
   ],
   "source": [
    "def product_array(array):\n",
    "    solution = 1\n",
    "    for i in array:\n",
    "        solution = solution * i\n",
    "    return solution\n",
    "\n",
    "def product_sans_n(nums):\n",
    "    b = []\n",
    "    for i in range(len(nums)):\n",
    "        nums_i = [nums[j] for j in range(len(nums)) if j != i]\n",
    "        b += [nums_i]\n",
    "    mult = [product_array(k) for k in b]\n",
    "    return mult\n",
    "product_sans_n([9,0,-2])\n",
    "    \n"
   ]
  },
  {
   "cell_type": "markdown",
   "metadata": {},
   "source": [
    "### Sample division  \n",
    "Enlace [aquí](https://www.codewars.com/kata/59ec2d112332430ce9000005)"
   ]
  },
  {
   "cell_type": "code",
   "execution_count": null,
   "metadata": {},
   "outputs": [
    {
     "data": {
      "text/plain": [
       "True"
      ]
     },
     "execution_count": 55,
     "metadata": {},
     "output_type": "execute_result"
    }
   ],
   "source": [
    "def divisors(p): #returns the divisors of a number\n",
    "    divisors = [i+1 for i in range(p) if p % (i+1) == 0]\n",
    "    return divisors\n",
    "def is_prime(p): #checks if a number is prime\n",
    "    if len(divisors(p)) == 2:\n",
    "        return True\n",
    "    else:\n",
    "        return False\n",
    "def prime_divisors(p): #returns the prime divisors of a number\n",
    "    return [i for i in divisors(p) if is_prime(i) == True]  \n",
    "\n",
    "def solve(a,b):\n",
    "    if sum([a % i for i in prime_divisors(b)]) == 0:\n",
    "        return True\n",
    "    else:\n",
    "        return False\n",
    "\n",
    "solve(12,6)\n",
    "\n",
    "\n"
   ]
  },
  {
   "cell_type": "code",
   "execution_count": null,
   "metadata": {},
   "outputs": [],
   "source": [
    "#Version optimizada\n",
    "def is_prime(n):\n",
    "    if n < 2:\n",
    "        return False\n",
    "    for i in range(2, int(n**0.5) + 1):\n",
    "        if n % i == 0:\n",
    "            return False\n",
    "    return True\n",
    "\n",
    "def prime_divisors(n):\n",
    "    return [i for i in range(2, n + 1) if n % i == 0 and is_prime(i)]\n",
    "\n",
    "def solve(a, b):\n",
    "    return all(a % p == 0 for p in prime_divisors(b))"
   ]
  },
  {
   "cell_type": "markdown",
   "metadata": {},
   "source": [
    "### Find the unique number  \n",
    "Enlace al ejercicio en [codewars](https://www.codewars.com/kata/585d7d5adb20cf33cb000235)"
   ]
  },
  {
   "cell_type": "code",
   "execution_count": 9,
   "metadata": {},
   "outputs": [
    {
     "data": {
      "text/plain": [
       "0.55"
      ]
     },
     "execution_count": 9,
     "metadata": {},
     "output_type": "execute_result"
    }
   ],
   "source": [
    "def find_uniq(array):\n",
    "    new_array = list(set(array))\n",
    "    if array.count(new_array[0]) < array.count(new_array[1]):\n",
    "        return new_array[0]\n",
    "    else:\n",
    "        return new_array[1]\n",
    "find_uniq([ 0, 0, 0.55, 0, 0 ])"
   ]
  },
  {
   "cell_type": "markdown",
   "metadata": {},
   "source": [
    "### Only duplicates  \n",
    "Enlace al ejercicio en [codewars](https://www.codewars.com/kata/5a1dc4baffe75f270200006b)"
   ]
  },
  {
   "cell_type": "code",
   "execution_count": null,
   "metadata": {},
   "outputs": [
    {
     "data": {
      "text/plain": [
       "'ollol'"
      ]
     },
     "execution_count": 28,
     "metadata": {},
     "output_type": "execute_result"
    }
   ],
   "source": [
    "def only_duplicates(a):\n",
    "    b = [[a.count(a[i]), a[i]] for i in range(len(a))] #creamos una lista en la que cada elemento (lista) contiene la letra y las veces que aparece\n",
    "    c = [b[i][1] for i in range(len(b)) if b[i][0] > 1] #nos quedamos con aquellas que aparecen mas de una vez\n",
    "    solution = ''\n",
    "    for i in c: #montamos la palabra\n",
    "        solution += i\n",
    "    return solution\n",
    "only_duplicates('colloquial')\n"
   ]
  },
  {
   "cell_type": "markdown",
   "metadata": {},
   "source": [
    "### Build Towers\n",
    "Enlace codewars [aqui](https://www.codewars.com/kata/576757b1df89ecf5bd00073b)"
   ]
  },
  {
   "cell_type": "markdown",
   "metadata": {},
   "source": [
    "### Array.diff\n",
    "Enlace al ejercicio [aquí](https://www.codewars.com/kata/523f5d21c841566fde000009)"
   ]
  },
  {
   "cell_type": "code",
   "execution_count": 31,
   "metadata": {},
   "outputs": [
    {
     "data": {
      "text/plain": [
       "[1, 4]"
      ]
     },
     "execution_count": 31,
     "metadata": {},
     "output_type": "execute_result"
    }
   ],
   "source": [
    "def array_diff(a, b):\n",
    "    for i in b:\n",
    "        for j in a:\n",
    "            if i == j:\n",
    "                while i in a:\n",
    "                    a.remove(i)\n",
    "    return a\n",
    "array_diff([1,2,2,2,3,3,3,3,3,3,4], [2,2,2,3,3])\n"
   ]
  },
  {
   "cell_type": "markdown",
   "metadata": {},
   "source": [
    "### Primes in numbers\n",
    "Enlace al ejercicio [aquí](https://www.codewars.com/kata/54d512e62a5e54c96200019e/python)"
   ]
  },
  {
   "cell_type": "code",
   "execution_count": 74,
   "metadata": {},
   "outputs": [
    {
     "data": {
      "text/plain": [
       "'(2**2)(3**3)(5)(7)(11**2)(17)'"
      ]
     },
     "execution_count": 74,
     "metadata": {},
     "output_type": "execute_result"
    }
   ],
   "source": [
    "def is_prime(n):\n",
    "    if n < 2:\n",
    "        return False\n",
    "    for i in range(2, int(n**0.5) + 1):\n",
    "        if n % i == 0:\n",
    "            return False\n",
    "    return True\n",
    "\n",
    "def prime_divisors(n):\n",
    "    return [i for i in range(2, n + 1) if n % i == 0 and is_prime(i)]\n",
    "\n",
    "\n",
    "def prime_factors(n):\n",
    "    if n == 1:\n",
    "        return ' '\n",
    "    else:\n",
    "        divisors = prime_divisors(n)  \n",
    "        quotient = n // divisors[0]\n",
    "        desc_primes = [divisors[0]]\n",
    "        i = 0\n",
    "        while quotient > 1:\n",
    "            if quotient % divisors[i] == 0:\n",
    "                quotient = quotient // divisors[i]\n",
    "                desc_primes.append(divisors[i])\n",
    "            else:\n",
    "                i += 1\n",
    "                quotient = quotient // divisors[i]\n",
    "                desc_primes.append(divisors[i])\n",
    "        \n",
    "        descomposition = ''\n",
    "        for i in divisors:\n",
    "            count = desc_primes.count(i)\n",
    "            if count == 1:\n",
    "                descomposition += f'({i})'\n",
    "            else:\n",
    "                descomposition += f'({i}**{count})'\n",
    "        return descomposition  \n",
    "\n",
    "\n",
    "prime_factors(7775460)\n",
    "\n",
    "\n",
    "\n"
   ]
  },
  {
   "cell_type": "code",
   "execution_count": null,
   "metadata": {},
   "outputs": [
    {
     "data": {
      "text/plain": [
       "'(3)(5)(31)(43)(3727)'"
      ]
     },
     "execution_count": 2,
     "metadata": {},
     "output_type": "execute_result"
    }
   ],
   "source": [
    "\n",
    "#v2\n",
    "def prime_factors(n):\n",
    "    divisors = []\n",
    "    for i in range(2, int(n/2) + 1): # sqrt(n) es mejor pero me daba problemas\n",
    "        while n % i == 0:\n",
    "            divisors.append(i)\n",
    "            n //= i\n",
    "    \n",
    "    if n > 1: # este n es el que queda despues del for, no el original\n",
    "        divisors.append(n) # esto es dificil de comprender pero si tras el for anterior no hay ningun numero\n",
    "                            # significa que ese numero es primo\n",
    "                \n",
    "    unique_divisors = sorted(set(divisors))\n",
    "    descomposition = ''\n",
    "    for i in unique_divisors:\n",
    "        count = divisors.count(i)\n",
    "        if count == 1:\n",
    "            descomposition += f'({i})'\n",
    "        else:\n",
    "            descomposition += f'({i}**{count})'\n",
    "    return descomposition \n",
    "\n",
    "prime_factors(74521365)"
   ]
  },
  {
   "cell_type": "markdown",
   "metadata": {},
   "source": [
    "### Primer numbers\n",
    "Enlace [aquí](https://www.codewars.com/kata/52dd72494367608ac1000416)  \n",
    "El ejercicio es de JavaScript"
   ]
  },
  {
   "cell_type": "code",
   "execution_count": 9,
   "metadata": {},
   "outputs": [
    {
     "data": {
      "text/plain": [
       "[2, 3, 5, 7]"
      ]
     },
     "execution_count": 9,
     "metadata": {},
     "output_type": "execute_result"
    }
   ],
   "source": [
    "def is_Prime(n):\n",
    "    if n < 2:\n",
    "        return False\n",
    "    for i in range(2, int(n**0.5) + 1):\n",
    "        if n % i == 0:\n",
    "            return False\n",
    "    return True\n",
    "\n",
    "def getPrimes(start, finish):\n",
    "    if start <= finish:\n",
    "        primes_list = []\n",
    "        for i in range(start, finish + 1):\n",
    "            if is_Prime(i):\n",
    "                primes_list.append(i)\n",
    "    else:\n",
    "        primes_list = []\n",
    "        for i in range(finish, start + 1):\n",
    "            if is_Prime(i):\n",
    "                primes_list.append(i)\n",
    "    return primes_list\n",
    "\n",
    "getPrimes(2,7)"
   ]
  },
  {
   "cell_type": "markdown",
   "metadata": {},
   "source": [
    "### Resistor color codes\n",
    "Enlace [aquí](https://www.codewars.com/kata/5855777bb45c01bada0002ac)"
   ]
  },
  {
   "cell_type": "code",
   "execution_count": null,
   "metadata": {},
   "outputs": [
    {
     "data": {
      "text/plain": [
       "'red black green gold'"
      ]
     },
     "execution_count": 18,
     "metadata": {},
     "output_type": "execute_result"
    }
   ],
   "source": [
    "\n",
    "def color_code(n):\n",
    "    code = {\n",
    "\n",
    "        '0': 'black',\n",
    "        '1': 'brown',\n",
    "        '2': 'red',\n",
    "        '3': 'orange',\n",
    "        '4': 'yellow',\n",
    "        '5': 'green',\n",
    "        '6': 'blue',\n",
    "        '7': 'violet',\n",
    "        '8': 'gray',\n",
    "        '9': 'white',\n",
    "    }\n",
    "\n",
    "    return code.get(n, 'Invalid number')\n",
    "\n",
    "def scientific_notation(n): \n",
    "    m = str(n)\n",
    "    if len(m) == 2:\n",
    "        return f'{m}0'\n",
    "    else:\n",
    "        return f'{m[0:2]}{m[2:len(m) + 1].count(\"0\")}'\n",
    "\n",
    "def encode_resistor_colors(ohms_string):\n",
    "\n",
    "    colors = []\n",
    "    resistor_value = ohms_string.split()[0]\n",
    "    \n",
    "    if resistor_value[-1] == 'k':\n",
    "        if '.' in resistor_value:\n",
    "            resistor_value = resistor_value[:-1] + '00'\n",
    "            resistor_value = resistor_value.replace('.','')\n",
    "            for i in scientific_notation(resistor_value):\n",
    "                colors.append(color_code(i))\n",
    "            colors.append('gold')\n",
    "            return ' '.join(colors)\n",
    "        else:\n",
    "            resistor_value = resistor_value[:-1] + '000'\n",
    "            for i in scientific_notation(resistor_value):\n",
    "                colors.append(color_code(i))\n",
    "            colors.append('gold')\n",
    "            return ' '.join(colors)\n",
    "\n",
    "    elif resistor_value[-1] == 'M':\n",
    "        if '.' in resistor_value:\n",
    "            resistor_value = resistor_value[:-1] + '00000'\n",
    "            resistor_value = resistor_value.replace('.','')\n",
    "            for i in scientific_notation(resistor_value):\n",
    "                colors.append(color_code(i))\n",
    "            colors.append('gold')\n",
    "            return ' '.join(colors)\n",
    "        else:\n",
    "            resistor_value = resistor_value[:-1] + '000000'\n",
    "            for i in scientific_notation(resistor_value):\n",
    "                colors.append(color_code(i))\n",
    "            colors.append('gold')\n",
    "            return ' '.join(colors)\n",
    "\n",
    "    else: \n",
    "        colors = []\n",
    "        if len(resistor_value) == 2:\n",
    "            for i in scientific_notation(resistor_value):\n",
    "                colors.append(color_code(i))\n",
    "            colors.append('gold')\n",
    "            return ' '.join(colors)\n",
    "        elif len(resistor_value) == 3:\n",
    "            for i in scientific_notation(resistor_value):\n",
    "                colors.append(color_code(i))\n",
    "            colors.append('gold')\n",
    "            return ' '.join(colors)\n",
    "\n",
    "\n",
    "encode_resistor_colors('2M ohms')"
   ]
  },
  {
   "cell_type": "code",
   "execution_count": 6,
   "metadata": {},
   "outputs": [
    {
     "data": {
      "text/plain": [
       "'yellow violet red gold'"
      ]
     },
     "execution_count": 6,
     "metadata": {},
     "output_type": "execute_result"
    }
   ],
   "source": [
    "# el codigo anterior funciona pero es muy largo y repetitivo. Voy a tratar de hacerlo mas conciso\n",
    "# utilizando si es necesario funciones mas potentes\n",
    "\n",
    "def color_code(n):\n",
    "    code = {\n",
    "\n",
    "        '0': 'black',\n",
    "        '1': 'brown',\n",
    "        '2': 'red',\n",
    "        '3': 'orange',\n",
    "        '4': 'yellow',\n",
    "        '5': 'green',\n",
    "        '6': 'blue',\n",
    "        '7': 'violet',\n",
    "        '8': 'gray',\n",
    "        '9': 'white',\n",
    "    }\n",
    "\n",
    "    return code.get(n, 'Invalid number') # esta funcion me hace falta igual\n",
    "# la idea aqui va a ser trabajar con numeros, no con strings\n",
    "\n",
    "def encode_resistor_colors(ohms_string):\n",
    "    value = ohms_string.split()[0]\n",
    "\n",
    "    mult = 1\n",
    "    if value.endswith('k'):\n",
    "        mult = 1000\n",
    "        value = value.replace('k','') \n",
    "    elif value.endswith('M'):\n",
    "        mult = 1000000\n",
    "        value = value.replace('M','') \n",
    "\n",
    "    value = int(float(value)*mult)\n",
    "    first_number = str(value)[0]\n",
    "    second_number = str(value)[1]\n",
    "    zeros = str(len(str(value)) - 2)\n",
    "\n",
    "    return f'{color_code(first_number)} {color_code(second_number)} {color_code(zeros)} gold'\n",
    "encode_resistor_colors('4.7k ohms')\n",
    "\n"
   ]
  }
 ],
 "metadata": {
  "kernelspec": {
   "display_name": "data_analysis_env",
   "language": "python",
   "name": "python3"
  },
  "language_info": {
   "codemirror_mode": {
    "name": "ipython",
    "version": 3
   },
   "file_extension": ".py",
   "mimetype": "text/x-python",
   "name": "python",
   "nbconvert_exporter": "python",
   "pygments_lexer": "ipython3",
   "version": "3.11.11"
  }
 },
 "nbformat": 4,
 "nbformat_minor": 2
}
