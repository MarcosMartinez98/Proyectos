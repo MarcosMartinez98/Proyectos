{
 "cells": [
  {
   "cell_type": "code",
   "execution_count": null,
   "metadata": {},
   "outputs": [
    {
     "name": "stdout",
     "output_type": "stream",
     "text": [
      "True 371 is narcissictic\n",
      "True 7 is narcissictic\n",
      "False 25 is not narcissictic\n"
     ]
    }
   ],
   "source": [
    "def narcissistic(value):\n",
    "    value_list = []\n",
    "    for i in str(value):\n",
    "        value_list += [int(i)]\n",
    "\n",
    "    resultado = 0\n",
    "    for i in value_list:\n",
    "        resultado += i**len(str(value))\n",
    "\n",
    "    if resultado == value:\n",
    "        print(True, f'{value} is narcissictic')\n",
    "    else:\n",
    "        (False, f'{value} is not narcissictic')\n",
    "narcissistic(371)\n",
    "narcissistic(7)\n",
    "narcissistic(25)"
   ]
  },
  {
   "cell_type": "code",
   "execution_count": null,
   "metadata": {},
   "outputs": [
    {
     "data": {
      "text/plain": [
       "'Fo1r the2 g3ood 4of th5e pe6ople'"
      ]
     },
     "execution_count": 148,
     "metadata": {},
     "output_type": "execute_result"
    }
   ],
   "source": [
    "\n",
    "def order(sentence):\n",
    "    sentence_list = sentence.split(' ')\n",
    "    ordered_list = [True] * len(sentence_list) #creo una nueva lista de longitud la longitud de sentencia con True para despues cambiarla\n",
    "    if sentence == '':\n",
    "        return ''\n",
    "    else:\n",
    "        for i in sentence_list:\n",
    "            for j in range(len(sentence_list)):\n",
    "                k = j + 1 #arreglo los indices porque los strings del ejercicios empiezan en 1 no cero\n",
    "                if i.find(str(k)) != -1:\n",
    "                    ordered_list[j] = i\n",
    "                \n",
    "                    None\n",
    "        ordered_sentence = ''\n",
    "        for i in ordered_list:\n",
    "            ordered_sentence += i + ' '\n",
    "                \n",
    "        return ordered_sentence.rstrip()\n",
    "\n",
    "order(\"4of Fo1r pe6ople g3ood th5e the2\")\n",
    "         \n",
    "\n"
   ]
  },
  {
   "cell_type": "code",
   "execution_count": null,
   "metadata": {},
   "outputs": [
    {
     "name": "stdout",
     "output_type": "stream",
     "text": [
      "no one likes this\n",
      "Peter likes this\n",
      "Jacob and Alex like this\n",
      "Max, John and Mark like this\n",
      "Alex, Jacob and 2 others like this\n",
      "Alex, Jacob and 3 others like this\n"
     ]
    }
   ],
   "source": [
    "def likes(names):\n",
    "    if names == []:\n",
    "        print('no one likes this')\n",
    "    elif len(names) == 1:\n",
    "        print(f'{names[0]} likes this')\n",
    "    elif len(names) == 2:\n",
    "        print(f'{names[0]} and {names[1]} like this')\n",
    "    elif len(names) == 3:\n",
    "        print(f'{names[0]}, {names[1]} and {names[2]} like this')\n",
    "    else:\n",
    "        print(f'{names[0]}, {names[1]} and {len(names) -2} others like this')\n",
    "\n",
    "likes([])\n",
    "likes(['Peter'])\n",
    "likes(['Jacob', 'Alex'])\n",
    "likes(['Max', 'John', 'Mark'])\n",
    "likes(['Alex', 'Jacob', 'Mark', 'Max'])\n",
    "likes(['Alex', 'Jacob', 'Mark', 'Max', 'juan'])\n",
    "            \n",
    "\n",
    "\n"
   ]
  },
  {
   "cell_type": "code",
   "execution_count": 8,
   "metadata": {},
   "outputs": [
    {
     "data": {
      "text/plain": [
       "False"
      ]
     },
     "execution_count": 8,
     "metadata": {},
     "output_type": "execute_result"
    }
   ],
   "source": [
    "# Complete the solution so that it returns true if the first argument(string) passed in ends with the 2nd argument (also a string).\n",
    "def solution(text, ending):\n",
    "    return text.endswith(ending)\n",
    "solution('marcos','cs')\n"
   ]
  },
  {
   "cell_type": "markdown",
   "metadata": {},
   "source": [
    "Write a function that takes an array of numbers (integers for the tests) and a target number. It should find two different items in the array that, when added together, give the target value. The indices of these items should then be returned in a tuple / list (depending on your language) like so: (index1, index2).\n",
    "\n",
    "For the purposes of this kata, some tests may have multiple answers; any valid solutions will be accepted.\n",
    "\n",
    "The input will always be valid (numbers will be an array of length 2 or greater, and all of the items will be numbers; target will always be the sum of two different items from that array)."
   ]
  },
  {
   "cell_type": "code",
   "execution_count": 91,
   "metadata": {},
   "outputs": [
    {
     "data": {
      "text/plain": [
       "(0, 1)"
      ]
     },
     "execution_count": 91,
     "metadata": {},
     "output_type": "execute_result"
    }
   ],
   "source": [
    "def two_sum(array, target):\n",
    "    for i in range(len(array)):\n",
    "        for j in range(len(array)):\n",
    "            if ((array[i] + array[j]) == target) and (i != j):\n",
    "                return(i, j)\n",
    "\n",
    "            \n",
    "    \n",
    "two_sum([2, 2, 3], 4)"
   ]
  },
  {
   "cell_type": "code",
   "execution_count": null,
   "metadata": {},
   "outputs": [
    {
     "name": "stdout",
     "output_type": "stream",
     "text": [
      "[8, 3, -5, 42, -1, 0, 0, -9, 4, 7, 4, -4]\n"
     ]
    },
    {
     "data": {
      "text/plain": [
       "'42 -9'"
      ]
     },
     "execution_count": 96,
     "metadata": {},
     "output_type": "execute_result"
    }
   ],
   "source": [
    "def high_and_low(numbers):\n",
    "    list_numbers = numbers.split(' ')\n",
    "    for i in range(len(list_numbers)):\n",
    "        list_numbers[i] = int(list_numbers[i])\n",
    "    return f'{max(list_numbers)} {min(list_numbers)}'\n",
    "high_and_low(\"8 3 -5 42 -1 0 0 -9 4 7 4 -4\")"
   ]
  },
  {
   "cell_type": "code",
   "execution_count": 24,
   "metadata": {},
   "outputs": [
    {
     "data": {
      "text/plain": [
       "[0, -18, 0]"
      ]
     },
     "execution_count": 24,
     "metadata": {},
     "output_type": "execute_result"
    }
   ],
   "source": [
    "def product_array(array):\n",
    "    solution = 1\n",
    "    for i in array:\n",
    "        solution = solution * i\n",
    "    return solution\n",
    "\n",
    "def product_sans_n(nums):\n",
    "    b = []\n",
    "    for i in range(len(nums)):\n",
    "        nums_i = [nums[j] for j in range(len(nums)) if j != i]\n",
    "        b += [nums_i]\n",
    "    mult = [product_array(k) for k in b]\n",
    "    return mult\n",
    "product_sans_n([9,0,-2])\n",
    "    \n"
   ]
  },
  {
   "cell_type": "code",
   "execution_count": null,
   "metadata": {},
   "outputs": [
    {
     "data": {
      "text/plain": [
       "True"
      ]
     },
     "execution_count": 55,
     "metadata": {},
     "output_type": "execute_result"
    }
   ],
   "source": [
    "def divisors(p): #returns the divisors of a number\n",
    "    divisors = [i+1 for i in range(p) if p % (i+1) == 0]\n",
    "    return divisors\n",
    "def is_prime(p): #checks if a number is prime\n",
    "    if len(divisors(p)) == 2:\n",
    "        return True\n",
    "    else:\n",
    "        return False\n",
    "def prime_divisors(p): #returns the prime divisors of a number\n",
    "    return [i for i in divisors(p) if is_prime(i) == True]  \n",
    "\n",
    "def solve(a,b):\n",
    "    if sum([a % i for i in prime_divisors(b)]) == 0:\n",
    "        return True\n",
    "    else:\n",
    "        return False\n",
    "\n",
    "solve(12,6)\n",
    "\n",
    "\n"
   ]
  },
  {
   "cell_type": "code",
   "execution_count": null,
   "metadata": {},
   "outputs": [],
   "source": [
    "#Version optimizada\n",
    "def is_prime(n):\n",
    "    if n < 2:\n",
    "        return False\n",
    "    for i in range(2, int(n**0.5) + 1):\n",
    "        if n % i == 0:\n",
    "            return False\n",
    "    return True\n",
    "\n",
    "def prime_divisors(n):\n",
    "    return [i for i in range(2, n + 1) if n % i == 0 and is_prime(i)]\n",
    "\n",
    "def solve(a, b):\n",
    "    return all(a % p == 0 for p in prime_divisors(b))"
   ]
  },
  {
   "cell_type": "markdown",
   "metadata": {},
   "source": [
    "Enlace al ejercicio en [codewars](https://www.codewars.com/kata/585d7d5adb20cf33cb000235)"
   ]
  },
  {
   "cell_type": "code",
   "execution_count": 9,
   "metadata": {},
   "outputs": [
    {
     "data": {
      "text/plain": [
       "0.55"
      ]
     },
     "execution_count": 9,
     "metadata": {},
     "output_type": "execute_result"
    }
   ],
   "source": [
    "def find_uniq(array):\n",
    "    new_array = list(set(array))\n",
    "    if array.count(new_array[0]) < array.count(new_array[1]):\n",
    "        return new_array[0]\n",
    "    else:\n",
    "        return new_array[1]\n",
    "find_uniq([ 0, 0, 0.55, 0, 0 ])"
   ]
  },
  {
   "cell_type": "markdown",
   "metadata": {},
   "source": [
    "Enlace al ejercicio en [codewars](https://www.codewars.com/kata/5a1dc4baffe75f270200006b)"
   ]
  },
  {
   "cell_type": "code",
   "execution_count": null,
   "metadata": {},
   "outputs": [
    {
     "data": {
      "text/plain": [
       "'ollol'"
      ]
     },
     "execution_count": 28,
     "metadata": {},
     "output_type": "execute_result"
    }
   ],
   "source": [
    "def only_duplicates(a):\n",
    "    b = [[a.count(a[i]), a[i]] for i in range(len(a))] #creamos una lista en la que cada elemento (lista) contiene la letra y las veces que aparece\n",
    "    c = [b[i][1] for i in range(len(b)) if b[i][0] > 1] #nos quedamos con aquellas que aparecen mas de una vez\n",
    "    solution = ''\n",
    "    for i in c: #montamos la palabra\n",
    "        solution += i\n",
    "    return solution\n",
    "only_duplicates('colloquial')\n"
   ]
  }
 ],
 "metadata": {
  "kernelspec": {
   "display_name": "data_analysis_env",
   "language": "python",
   "name": "python3"
  },
  "language_info": {
   "codemirror_mode": {
    "name": "ipython",
    "version": 3
   },
   "file_extension": ".py",
   "mimetype": "text/x-python",
   "name": "python",
   "nbconvert_exporter": "python",
   "pygments_lexer": "ipython3",
   "version": "3.11.11"
  }
 },
 "nbformat": 4,
 "nbformat_minor": 2
}
